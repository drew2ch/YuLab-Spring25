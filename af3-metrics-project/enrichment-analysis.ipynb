{
 "cells": [
  {
   "cell_type": "markdown",
   "metadata": {},
   "source": [
    "# PPI Gene Groups Enrichment Analysis\n",
    "\n",
    "Andrew Chung, hc893, 2/9/2025"
   ]
  },
  {
   "cell_type": "markdown",
   "metadata": {},
   "source": [
    "## Import Data, Preprocessing"
   ]
  },
  {
   "cell_type": "code",
   "execution_count": 1,
   "metadata": {},
   "outputs": [],
   "source": [
    "import numpy as np\n",
    "import pandas as pd\n",
    "import gseapy as gp\n",
    "import seaborn as sns\n",
    "import tqdm\n",
    "from matplotlib import pyplot as plt"
   ]
  },
  {
   "cell_type": "code",
   "execution_count": 2,
   "metadata": {},
   "outputs": [
    {
     "data": {
      "text/plain": [
       "(110000, 5)"
      ]
     },
     "execution_count": 2,
     "metadata": {},
     "output_type": "execute_result"
    }
   ],
   "source": [
    "data = pd.read_csv(\"data.csv\").drop(columns = ['MF', 'label'])\n",
    "data.shape"
   ]
  },
  {
   "cell_type": "markdown",
   "metadata": {},
   "source": [
    "Since the scope of enrichment analysis in this context is not clear cut, I will attempt both aggregate gene set EA and co-enrichment analysis."
   ]
  },
  {
   "cell_type": "code",
   "execution_count": 3,
   "metadata": {},
   "outputs": [],
   "source": [
    "# remove duplicate pairs\n",
    "# There were no duplicate pairs\n",
    "\n",
    "data['set'] = data.apply(lambda row: np.array([row['gene1'], row['gene2']]), axis = 1)\n",
    "data['tuple'] = data['set'].apply(lambda row: tuple(sorted(row)))\n",
    "data = data.drop_duplicates(subset = 'tuple', keep = 'first').drop(columns = ['set', 'tuple'])"
   ]
  },
  {
   "cell_type": "markdown",
   "metadata": {},
   "source": [
    "## Model Enrichment Analysis"
   ]
  },
  {
   "cell_type": "code",
   "execution_count": 19,
   "metadata": {},
   "outputs": [
    {
     "name": "stderr",
     "output_type": "stream",
     "text": [
      "100%|██████████| 14665/14665 [04:32<00:00, 53.84it/s] \n"
     ]
    }
   ],
   "source": [
    "gene_sets = {}\n",
    "for model in tqdm.tqdm(data['gene1'].unique()):\n",
    "  gene_sets[model] = data[data['gene1'] == model]['gene2'].unique().tolist()"
   ]
  },
  {
   "cell_type": "markdown",
   "metadata": {},
   "source": [
    "`GSEApy` Enrichr API (not working)"
   ]
  },
  {
   "cell_type": "code",
   "execution_count": 35,
   "metadata": {},
   "outputs": [
    {
     "name": "stderr",
     "output_type": "stream",
     "text": [
      "  0%|          | 0/14665 [00:02<?, ?it/s]\n"
     ]
    },
    {
     "ename": "Exception",
     "evalue": "Error sending gene list, try again later",
     "output_type": "error",
     "traceback": [
      "\u001b[1;31m---------------------------------------------------------------------------\u001b[0m",
      "\u001b[1;31mException\u001b[0m                                 Traceback (most recent call last)",
      "Cell \u001b[1;32mIn[35], line 5\u001b[0m\n\u001b[0;32m      2\u001b[0m enrichment_results \u001b[38;5;241m=\u001b[39m \u001b[38;5;28mdict\u001b[39m\u001b[38;5;241m.\u001b[39mfromkeys(models, \u001b[38;5;28;01mNone\u001b[39;00m)\n\u001b[0;32m      4\u001b[0m \u001b[38;5;28;01mfor\u001b[39;00m model, gene_set \u001b[38;5;129;01min\u001b[39;00m tqdm\u001b[38;5;241m.\u001b[39mtqdm(gene_sets\u001b[38;5;241m.\u001b[39mitems()):\n\u001b[1;32m----> 5\u001b[0m   enr \u001b[38;5;241m=\u001b[39m \u001b[43mgp\u001b[49m\u001b[38;5;241;43m.\u001b[39;49m\u001b[43menrichr\u001b[49m\u001b[43m(\u001b[49m\u001b[43mgene_list\u001b[49m\u001b[43m \u001b[49m\u001b[38;5;241;43m=\u001b[39;49m\u001b[43m \u001b[49m\u001b[43mgene_set\u001b[49m\u001b[43m,\u001b[49m\u001b[43m \u001b[49m\u001b[43mgene_sets\u001b[49m\u001b[43m \u001b[49m\u001b[38;5;241;43m=\u001b[39;49m\u001b[43m \u001b[49m\u001b[43m[\u001b[49m\n\u001b[0;32m      6\u001b[0m \u001b[43m      \u001b[49m\u001b[38;5;124;43m'\u001b[39;49m\u001b[38;5;124;43mGO_Biological_Process_2023\u001b[39;49m\u001b[38;5;124;43m'\u001b[39;49m\u001b[43m,\u001b[49m\u001b[43m \u001b[49m\n\u001b[0;32m      7\u001b[0m \u001b[43m      \u001b[49m\u001b[38;5;124;43m'\u001b[39;49m\u001b[38;5;124;43mGO_Cellular_Component_2023\u001b[39;49m\u001b[38;5;124;43m'\u001b[39;49m\u001b[43m,\u001b[49m\n\u001b[0;32m      8\u001b[0m \u001b[43m      \u001b[49m\u001b[38;5;124;43m'\u001b[39;49m\u001b[38;5;124;43mGO_Molecular_Function_2023\u001b[39;49m\u001b[38;5;124;43m'\u001b[39;49m\u001b[43m,\u001b[49m\n\u001b[0;32m      9\u001b[0m \u001b[43m      \u001b[49m\u001b[38;5;124;43m'\u001b[39;49m\u001b[38;5;124;43mKEGG_2021_Human\u001b[39;49m\u001b[38;5;124;43m'\u001b[39;49m\u001b[43m,\u001b[49m\n\u001b[0;32m     10\u001b[0m \u001b[43m      \u001b[49m\u001b[38;5;124;43m'\u001b[39;49m\u001b[38;5;124;43mReactome_Pathways_2024\u001b[39;49m\u001b[38;5;124;43m'\u001b[39;49m\n\u001b[0;32m     11\u001b[0m \u001b[43m    \u001b[49m\u001b[43m]\u001b[49m\u001b[43m,\u001b[49m\u001b[43m \u001b[49m\u001b[43morganism\u001b[49m\u001b[43m \u001b[49m\u001b[38;5;241;43m=\u001b[39;49m\u001b[43m \u001b[49m\u001b[38;5;124;43m'\u001b[39;49m\u001b[38;5;124;43mHuman\u001b[39;49m\u001b[38;5;124;43m'\u001b[39;49m\u001b[43m,\u001b[49m\u001b[43m \u001b[49m\u001b[43moutdir\u001b[49m\u001b[43m \u001b[49m\u001b[38;5;241;43m=\u001b[39;49m\u001b[43m \u001b[49m\u001b[38;5;28;43;01mNone\u001b[39;49;00m\u001b[43m,\u001b[49m\n\u001b[0;32m     12\u001b[0m \u001b[43m    \u001b[49m\u001b[43mno_plot\u001b[49m\u001b[43m \u001b[49m\u001b[38;5;241;43m=\u001b[39;49m\u001b[43m \u001b[49m\u001b[38;5;28;43;01mTrue\u001b[39;49;00m\n\u001b[0;32m     13\u001b[0m \u001b[43m  \u001b[49m\u001b[43m)\u001b[49m\n\u001b[0;32m     14\u001b[0m   results \u001b[38;5;241m=\u001b[39m enr\u001b[38;5;241m.\u001b[39mresults\n\u001b[0;32m     15\u001b[0m   results \u001b[38;5;241m=\u001b[39m results[results[\u001b[38;5;124m'\u001b[39m\u001b[38;5;124mAdjusted P-value\u001b[39m\u001b[38;5;124m'\u001b[39m] \u001b[38;5;241m<\u001b[39m \u001b[38;5;241m0.05\u001b[39m][[\u001b[38;5;124m'\u001b[39m\u001b[38;5;124mTerm\u001b[39m\u001b[38;5;124m'\u001b[39m, \u001b[38;5;124m'\u001b[39m\u001b[38;5;124m-log10(p-value)\u001b[39m\u001b[38;5;124m'\u001b[39m]]\u001b[38;5;241m.\u001b[39mset_index(\u001b[38;5;124m'\u001b[39m\u001b[38;5;124mTerm\u001b[39m\u001b[38;5;124m'\u001b[39m, inplace \u001b[38;5;241m=\u001b[39m \u001b[38;5;28;01mTrue\u001b[39;00m)\n",
      "File \u001b[1;32mc:\\Users\\hychu\\AppData\\Local\\Programs\\Python\\Python312\\Lib\\site-packages\\gseapy\\__init__.py:554\u001b[0m, in \u001b[0;36menrichr\u001b[1;34m(gene_list, gene_sets, organism, outdir, background, cutoff, format, figsize, top_term, no_plot, verbose)\u001b[0m\n\u001b[0;32m    552\u001b[0m \u001b[38;5;66;03m# set organism\u001b[39;00m\n\u001b[0;32m    553\u001b[0m enr\u001b[38;5;241m.\u001b[39mset_organism()\n\u001b[1;32m--> 554\u001b[0m \u001b[43menr\u001b[49m\u001b[38;5;241;43m.\u001b[39;49m\u001b[43mrun\u001b[49m\u001b[43m(\u001b[49m\u001b[43m)\u001b[49m\n\u001b[0;32m    556\u001b[0m \u001b[38;5;28;01mreturn\u001b[39;00m enr\n",
      "File \u001b[1;32mc:\\Users\\hychu\\AppData\\Local\\Programs\\Python\\Python312\\Lib\\site-packages\\gseapy\\enrichr.py:652\u001b[0m, in \u001b[0;36mEnrichr.run\u001b[1;34m(self)\u001b[0m\n\u001b[0;32m    650\u001b[0m         shortID, res \u001b[38;5;241m=\u001b[39m \u001b[38;5;28mself\u001b[39m\u001b[38;5;241m.\u001b[39mget_results_with_background(genes_list, bg)\n\u001b[0;32m    651\u001b[0m     \u001b[38;5;28;01melse\u001b[39;00m:\n\u001b[1;32m--> 652\u001b[0m         shortID, res \u001b[38;5;241m=\u001b[39m \u001b[38;5;28;43mself\u001b[39;49m\u001b[38;5;241;43m.\u001b[39;49m\u001b[43mget_results\u001b[49m\u001b[43m(\u001b[49m\u001b[43mgenes_list\u001b[49m\u001b[43m)\u001b[49m\n\u001b[0;32m    654\u001b[0m \u001b[38;5;66;03m# Remember gene set library used\u001b[39;00m\n\u001b[0;32m    655\u001b[0m res\u001b[38;5;241m.\u001b[39minsert(\u001b[38;5;241m0\u001b[39m, \u001b[38;5;124m\"\u001b[39m\u001b[38;5;124mGene_set\u001b[39m\u001b[38;5;124m\"\u001b[39m, name)\n",
      "File \u001b[1;32mc:\\Users\\hychu\\AppData\\Local\\Programs\\Python\\Python312\\Lib\\site-packages\\gseapy\\enrichr.py:328\u001b[0m, in \u001b[0;36mEnrichr.get_results\u001b[1;34m(self, gene_list)\u001b[0m\n\u001b[0;32m    326\u001b[0m ADDLIST_URL \u001b[38;5;241m=\u001b[39m \u001b[38;5;124m\"\u001b[39m\u001b[38;5;132;01m%s\u001b[39;00m\u001b[38;5;124m/\u001b[39m\u001b[38;5;132;01m%s\u001b[39;00m\u001b[38;5;124m/addList\u001b[39m\u001b[38;5;124m\"\u001b[39m \u001b[38;5;241m%\u001b[39m (\u001b[38;5;28mself\u001b[39m\u001b[38;5;241m.\u001b[39mENRICHR_URL, \u001b[38;5;28mself\u001b[39m\u001b[38;5;241m.\u001b[39m_organism)\n\u001b[0;32m    327\u001b[0m payload \u001b[38;5;241m=\u001b[39m {\u001b[38;5;124m\"\u001b[39m\u001b[38;5;124mlist\u001b[39m\u001b[38;5;124m\"\u001b[39m: (\u001b[38;5;28;01mNone\u001b[39;00m, gene_list), \u001b[38;5;124m\"\u001b[39m\u001b[38;5;124mdescription\u001b[39m\u001b[38;5;124m\"\u001b[39m: (\u001b[38;5;28;01mNone\u001b[39;00m, \u001b[38;5;28mself\u001b[39m\u001b[38;5;241m.\u001b[39mdescriptions)}\n\u001b[1;32m--> 328\u001b[0m job_id \u001b[38;5;241m=\u001b[39m \u001b[38;5;28;43mself\u001b[39;49m\u001b[38;5;241;43m.\u001b[39;49m\u001b[43msend_genes\u001b[49m\u001b[43m(\u001b[49m\u001b[43mpayload\u001b[49m\u001b[43m,\u001b[49m\u001b[43m \u001b[49m\u001b[43mADDLIST_URL\u001b[49m\u001b[43m)\u001b[49m\n\u001b[0;32m    329\u001b[0m user_list_id \u001b[38;5;241m=\u001b[39m job_id[\u001b[38;5;124m\"\u001b[39m\u001b[38;5;124muserListId\u001b[39m\u001b[38;5;124m\"\u001b[39m]\n\u001b[0;32m    331\u001b[0m RESULTS_URL \u001b[38;5;241m=\u001b[39m \u001b[38;5;124m\"\u001b[39m\u001b[38;5;132;01m%s\u001b[39;00m\u001b[38;5;124m/\u001b[39m\u001b[38;5;132;01m%s\u001b[39;00m\u001b[38;5;124m/export\u001b[39m\u001b[38;5;124m\"\u001b[39m \u001b[38;5;241m%\u001b[39m (\u001b[38;5;28mself\u001b[39m\u001b[38;5;241m.\u001b[39mENRICHR_URL, \u001b[38;5;28mself\u001b[39m\u001b[38;5;241m.\u001b[39m_organism)\n",
      "File \u001b[1;32mc:\\Users\\hychu\\AppData\\Local\\Programs\\Python\\Python312\\Lib\\site-packages\\gseapy\\enrichr.py:213\u001b[0m, in \u001b[0;36mEnrichr.send_genes\u001b[1;34m(self, payload, url)\u001b[0m\n\u001b[0;32m    211\u001b[0m     \u001b[38;5;28mself\u001b[39m\u001b[38;5;241m.\u001b[39m_logger\u001b[38;5;241m.\u001b[39mdebug(url)\n\u001b[0;32m    212\u001b[0m     \u001b[38;5;28mself\u001b[39m\u001b[38;5;241m.\u001b[39m_logger\u001b[38;5;241m.\u001b[39mdebug(payload)\n\u001b[1;32m--> 213\u001b[0m     \u001b[38;5;28;01mraise\u001b[39;00m \u001b[38;5;167;01mException\u001b[39;00m(\u001b[38;5;124m\"\u001b[39m\u001b[38;5;124mError sending gene list, try again later\u001b[39m\u001b[38;5;124m\"\u001b[39m)\n\u001b[0;32m    214\u001b[0m job_id \u001b[38;5;241m=\u001b[39m json\u001b[38;5;241m.\u001b[39mloads(response\u001b[38;5;241m.\u001b[39mtext)\n\u001b[0;32m    215\u001b[0m \u001b[38;5;66;03m# response.text\u001b[39;00m\n\u001b[0;32m    216\u001b[0m \u001b[38;5;66;03m# {\u001b[39;00m\n\u001b[0;32m    217\u001b[0m \u001b[38;5;66;03m# \t\"userListId\": 667152768,\u001b[39;00m\n\u001b[0;32m    218\u001b[0m \u001b[38;5;66;03m# \t\"shortId\": \"27c3f180\"\u001b[39;00m\n\u001b[0;32m    219\u001b[0m \u001b[38;5;66;03m# }\u001b[39;00m\n",
      "\u001b[1;31mException\u001b[0m: Error sending gene list, try again later"
     ]
    }
   ],
   "source": [
    "models = np.array(data['gene1'].unique())\n",
    "enrichment_results = dict.fromkeys(models, None)\n",
    "\n",
    "for model, gene_set in tqdm.tqdm(gene_sets.items()):\n",
    "  enr = gp.enrichr(gene_list = gene_set, gene_sets = [\n",
    "      'GO_Biological_Process_2023', \n",
    "      'GO_Cellular_Component_2023',\n",
    "      'GO_Molecular_Function_2023',\n",
    "      'KEGG_2021_Human',\n",
    "      'Reactome_Pathways_2024'\n",
    "    ], organism = 'Human', outdir = None,\n",
    "    no_plot = True\n",
    "  )\n",
    "  results = enr.results\n",
    "  results = results[results['Adjusted P-value'] < 0.05][['Term', '-log10(p-value)']].set_index('Term', inplace = True)\n",
    "  enrichment_results[model] = results"
   ]
  },
  {
   "cell_type": "markdown",
   "metadata": {},
   "source": [
    "Direct Enrichr API Access"
   ]
  },
  {
   "cell_type": "code",
   "execution_count": null,
   "metadata": {},
   "outputs": [],
   "source": [
    "import json\n",
    "import requests\n",
    "\n",
    "ADD_URL = \"https://maayanlab.cloud/Enrichr/addList\"\n",
    "ENRICHR_URL = \"https://maayanlab.cloud/Enrichr/enrich\"\n",
    "query_string = \"?userListId=%s&backgroundType=%s\"\n",
    "\n",
    "# define enrichment results\n",
    "models = np.array(data['gene1'].unique())\n",
    "enrichment_results = dict.fromkeys(models, None)\n",
    "\n",
    "# convert to string for Enrichr\n",
    "for model, gset in gene_sets.items():\n",
    "  gene_sets[model] = '\\n'.join(gset)"
   ]
  },
  {
   "cell_type": "code",
   "execution_count": null,
   "metadata": {},
   "outputs": [],
   "source": [
    "for model in models:\n",
    "  payload = {\n",
    "    'list': (None, gene_sets[model]),\n",
    "    'description': (None, model)\n",
    "  }\n",
    "  response = requests.post(ADD_URL, files = payload)\n",
    "  if not response.ok:\n",
    "    raise Exception(\"Error analyzing {}\".format(model))\n",
    "  d = json.loads(response.text)"
   ]
  }
 ],
 "metadata": {
  "kernelspec": {
   "display_name": "Python 3",
   "language": "python",
   "name": "python3"
  },
  "language_info": {
   "codemirror_mode": {
    "name": "ipython",
    "version": 3
   },
   "file_extension": ".py",
   "mimetype": "text/x-python",
   "name": "python",
   "nbconvert_exporter": "python",
   "pygments_lexer": "ipython3",
   "version": "3.12.4"
  }
 },
 "nbformat": 4,
 "nbformat_minor": 2
}
