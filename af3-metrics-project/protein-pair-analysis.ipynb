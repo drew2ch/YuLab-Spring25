{
 "cells": [
  {
   "cell_type": "markdown",
   "metadata": {},
   "source": [
    "# Jan 24\n",
    "\n",
    "Andrew Chung // hc893"
   ]
  },
  {
   "cell_type": "code",
   "execution_count": 167,
   "metadata": {},
   "outputs": [],
   "source": [
    "import pandas as pd\n",
    "import numpy as np"
   ]
  },
  {
   "cell_type": "code",
   "execution_count": 13,
   "metadata": {},
   "outputs": [],
   "source": [
    "# read PPI predicted scores\n",
    "\n",
    "af3_pred = pd.read_csv(\"final_af3_results.csv\")\n",
    "dsc_pred = pd.read_csv(\"dscript_ppis.csv\")"
   ]
  },
  {
   "cell_type": "markdown",
   "metadata": {},
   "source": [
    "## Pre-Processing Steps"
   ]
  },
  {
   "cell_type": "code",
   "execution_count": 17,
   "metadata": {},
   "outputs": [
    {
     "data": {
      "text/plain": [
       "(6768, 27)"
      ]
     },
     "execution_count": 17,
     "metadata": {},
     "output_type": "execute_result"
    }
   ],
   "source": [
    "af3_pred.head(1)\n",
    "af3_pred.shape"
   ]
  },
  {
   "cell_type": "code",
   "execution_count": 18,
   "metadata": {},
   "outputs": [
    {
     "data": {
      "text/plain": [
       "(9908, 10)"
      ]
     },
     "execution_count": 18,
     "metadata": {},
     "output_type": "execute_result"
    }
   ],
   "source": [
    "dsc_pred.head(1)\n",
    "dsc_pred.shape"
   ]
  },
  {
   "cell_type": "markdown",
   "metadata": {},
   "source": [
    "### 1. Drop homo-dimer (same-protein PPI) instances"
   ]
  },
  {
   "cell_type": "code",
   "execution_count": 19,
   "metadata": {},
   "outputs": [
    {
     "name": "stdout",
     "output_type": "stream",
     "text": [
      "Dimensions of AF3: (6440, 27)\n",
      "Dimensions of DSC: (9578, 10)\n"
     ]
    }
   ],
   "source": [
    "# drop row if prot1 == prot2\n",
    "af3_homo_dropped = af3_pred[af3_pred['prot1'] != af3_pred['prot2']]\n",
    "dsc_homo_dropped = dsc_pred[dsc_pred['prot1'] != dsc_pred['prot2']]\n",
    "\n",
    "print(\"Dimensions of AF3: {}\".format(af3_homo_dropped.shape))\n",
    "print(\"Dimensions of DSC: {}\".format(dsc_homo_dropped.shape))"
   ]
  },
  {
   "cell_type": "markdown",
   "metadata": {},
   "source": [
    "- AF3: **328** homo-dimers\n",
    "- D-script: **330** homo-dimers"
   ]
  },
  {
   "cell_type": "markdown",
   "metadata": {},
   "source": [
    "### 2. Drop duplicate instances"
   ]
  },
  {
   "cell_type": "code",
   "execution_count": 22,
   "metadata": {},
   "outputs": [
    {
     "name": "stdout",
     "output_type": "stream",
     "text": [
      "Dimensions of AF3: (6393, 28)\n",
      "Dimensions of DSC: (9557, 11)\n"
     ]
    },
    {
     "name": "stderr",
     "output_type": "stream",
     "text": [
      "C:\\Users\\hychu\\AppData\\Local\\Temp\\ipykernel_7472\\78624199.py:2: SettingWithCopyWarning: \n",
      "A value is trying to be set on a copy of a slice from a DataFrame.\n",
      "Try using .loc[row_indexer,col_indexer] = value instead\n",
      "\n",
      "See the caveats in the documentation: https://pandas.pydata.org/pandas-docs/stable/user_guide/indexing.html#returning-a-view-versus-a-copy\n",
      "  af3_homo_dropped['pair'] = af3_homo_dropped.apply(lambda row: tuple(sorted([row['prot1'], row['prot2']])), axis = 1)\n",
      "C:\\Users\\hychu\\AppData\\Local\\Temp\\ipykernel_7472\\78624199.py:3: SettingWithCopyWarning: \n",
      "A value is trying to be set on a copy of a slice from a DataFrame.\n",
      "Try using .loc[row_indexer,col_indexer] = value instead\n",
      "\n",
      "See the caveats in the documentation: https://pandas.pydata.org/pandas-docs/stable/user_guide/indexing.html#returning-a-view-versus-a-copy\n",
      "  dsc_homo_dropped['pair'] = dsc_homo_dropped.apply(lambda row: tuple(sorted([row['prot1'], row['prot2']])), axis = 1)\n"
     ]
    }
   ],
   "source": [
    "# create a sorted instance to identify unique pairs\n",
    "af3_homo_dropped['pair'] = af3_homo_dropped.apply(lambda row: tuple(sorted([row['prot1'], row['prot2']])), axis = 1)\n",
    "dsc_homo_dropped['pair'] = dsc_homo_dropped.apply(lambda row: tuple(sorted([row['prot1'], row['prot2']])), axis = 1)\n",
    "\n",
    "# drop duplicates\n",
    "af3_uniq = af3_homo_dropped.drop_duplicates(subset = 'pair')\n",
    "dsc_uniq = dsc_homo_dropped.drop_duplicates(subset = 'pair')\n",
    "\n",
    "print(\"Dimensions of AF3: {}\".format(af3_uniq.shape))\n",
    "print(\"Dimensions of DSC: {}\".format(dsc_uniq.shape))"
   ]
  },
  {
   "cell_type": "markdown",
   "metadata": {},
   "source": [
    "- AF3: **47** duplicates\n",
    "- D-script: **21** duplicates"
   ]
  },
  {
   "cell_type": "markdown",
   "metadata": {},
   "source": [
    "### 3. Drop non-mutual columns (not shared between AF3 and D-script)"
   ]
  },
  {
   "cell_type": "code",
   "execution_count": 28,
   "metadata": {},
   "outputs": [
    {
     "name": "stdout",
     "output_type": "stream",
     "text": [
      "Dimensions of AF3: (6377, 28)\n",
      "Dimensions of DSC: (6377, 11)\n"
     ]
    }
   ],
   "source": [
    "# identify and drop pairs exclusive to either AF3 or DSC\n",
    "common_pairs = set(af3_uniq['pair']).intersection(set(dsc_uniq['pair']))\n",
    "\n",
    "af3_filt = af3_uniq[af3_uniq['pair'].isin(common_pairs)].reset_index(drop = True)\n",
    "dsc_filt = dsc_uniq[dsc_uniq['pair'].isin(common_pairs)].reset_index(drop = True)\n",
    "\n",
    "print(\"Dimensions of AF3: {}\".format(af3_filt.shape))\n",
    "print(\"Dimensions of DSC: {}\".format(dsc_filt.shape))"
   ]
  },
  {
   "cell_type": "markdown",
   "metadata": {},
   "source": [
    "**6,377** common pairs between AF3 and D-script."
   ]
  },
  {
   "cell_type": "markdown",
   "metadata": {},
   "source": [
    "## Combine and Filter with RF2-PPI instances"
   ]
  },
  {
   "cell_type": "code",
   "execution_count": 31,
   "metadata": {},
   "outputs": [
    {
     "data": {
      "text/plain": [
       "(5930, 3)"
      ]
     },
     "execution_count": 31,
     "metadata": {},
     "output_type": "execute_result"
    }
   ],
   "source": [
    "# import RF2-PPI data\n",
    "rf2 = pd.read_csv(\"RF2_unique_protein_pairs.csv\")\n",
    "\n",
    "# serialize pairs\n",
    "rf2['pair'] = rf2.apply(lambda row: tuple(sorted([row['Protein1'], row['Protein2']])), axis = 1)\n",
    "rf2.shape"
   ]
  },
  {
   "cell_type": "markdown",
   "metadata": {},
   "source": [
    "There exist **447** protein pairs that were dropped and unable to generate RF2-PPI MSAs."
   ]
  },
  {
   "cell_type": "code",
   "execution_count": 34,
   "metadata": {},
   "outputs": [
    {
     "data": {
      "text/plain": [
       "447"
      ]
     },
     "execution_count": 34,
     "metadata": {},
     "output_type": "execute_result"
    }
   ],
   "source": [
    "# extract the non-MSA pairs\n",
    "non_MSA = sorted(set(af3_filt['pair']) - set(rf2['pair']))\n",
    "len(non_MSA)"
   ]
  },
  {
   "cell_type": "markdown",
   "metadata": {},
   "source": [
    "## Analyze Protein Pair Instances with Uniprot\n",
    "\n",
    "To comprehensively analyze each of the 447 pairs, I will utilize the Uniprot RESTful API."
   ]
  },
  {
   "cell_type": "code",
   "execution_count": 48,
   "metadata": {},
   "outputs": [],
   "source": [
    "import requests\n",
    "import tqdm"
   ]
  },
  {
   "cell_type": "code",
   "execution_count": 41,
   "metadata": {},
   "outputs": [
    {
     "data": {
      "text/plain": [
       "502"
      ]
     },
     "execution_count": 41,
     "metadata": {},
     "output_type": "execute_result"
    }
   ],
   "source": [
    "# extract unique proteins across the non-MSA pairs\n",
    "unique_proteins = set(protein for pair in non_MSA for protein in pair)\n",
    "len(unique_proteins)"
   ]
  },
  {
   "cell_type": "markdown",
   "metadata": {},
   "source": [
    "Example API Payload: Protein `Q8NBD8`"
   ]
  },
  {
   "cell_type": "code",
   "execution_count": 78,
   "metadata": {},
   "outputs": [
    {
     "name": "stdout",
     "output_type": "stream",
     "text": [
      "{'entryType': 'UniProtKB reviewed (Swiss-Prot)', 'primaryAccession': 'Q8NBD8', 'uniProtkbId': 'T229B_HUMAN', 'entryAudit': {'firstPublicDate': '2006-12-12', 'lastAnnotationUpdateDate': '2024-10-02', 'lastSequenceUpdateDate': '2002-10-01', 'entryVersion': 133, 'sequenceVersion': 1}, 'annotationScore': 5.0, 'organism': {'scientificName': 'Homo sapiens', 'commonName': 'Human', 'taxonId': 9606, 'lineage': ['Eukaryota', 'Metazoa', 'Chordata', 'Craniata', 'Vertebrata', 'Euteleostomi', 'Mammalia', 'Eutheria', 'Euarchontoglires', 'Primates', 'Haplorrhini', 'Catarrhini', 'Hominidae', 'Homo']}, 'proteinExistence': '1: Evidence at protein level', 'proteinDescription': {'recommendedName': {'fullName': {'value': 'Transmembrane protein 229B'}}}, 'genes': [{'geneName': {'value': 'TMEM229B'}, 'synonyms': [{'value': 'C14orf83'}]}], 'comments': [{'commentType': 'INTERACTION', 'interactions': [{'interactantOne': {'uniProtKBAccession': 'Q8NBD8', 'intActId': 'EBI-12195227'}, 'interactantTwo': {'uniProtKBAccession': 'Q5T8D3-2', 'geneName': 'ACBD5', 'intActId': 'EBI-10961679'}, 'numberOfExperiments': 3, 'organismDiffer': False}, {'interactantOne': {'uniProtKBAccession': 'Q8NBD8', 'intActId': 'EBI-12195227'}, 'interactantTwo': {'uniProtKBAccession': 'Q13520', 'geneName': 'AQP6', 'intActId': 'EBI-13059134'}, 'numberOfExperiments': 3, 'organismDiffer': False}, {'interactantOne': {'uniProtKBAccession': 'Q8NBD8', 'intActId': 'EBI-12195227'}, 'interactantTwo': {'uniProtKBAccession': 'Q3SXY8', 'geneName': 'ARL13B', 'intActId': 'EBI-11343438'}, 'numberOfExperiments': 3, 'organismDiffer': False}, {'interactantOne': {'uniProtKBAccession': 'Q8NBD8', 'intActId': 'EBI-12195227'}, 'interactantTwo': {'uniProtKBAccession': 'Q13323', 'geneName': 'BIK', 'intActId': 'EBI-700794'}, 'numberOfExperiments': 3, 'organismDiffer': False}, {'interactantOne': {'uniProtKBAccession': 'Q8NBD8', 'intActId': 'EBI-12195227'}, 'interactantTwo': {'uniProtKBAccession': 'P19397', 'geneName': 'CD53', 'intActId': 'EBI-6657396'}, 'numberOfExperiments': 3, 'organismDiffer': False}, {'interactantOne': {'uniProtKBAccession': 'Q8NBD8', 'intActId': 'EBI-12195227'}, 'interactantTwo': {'uniProtKBAccession': 'P11912', 'geneName': 'CD79A', 'intActId': 'EBI-7797864'}, 'numberOfExperiments': 3, 'organismDiffer': False}, {'interactantOne': {'uniProtKBAccession': 'Q8NBD8', 'intActId': 'EBI-12195227'}, 'interactantTwo': {'uniProtKBAccession': 'Q7Z7G2', 'geneName': 'CPLX4', 'intActId': 'EBI-18013275'}, 'numberOfExperiments': 3, 'organismDiffer': False}, {'interactantOne': {'uniProtKBAccession': 'Q8NBD8', 'intActId': 'EBI-12195227'}, 'interactantTwo': {'uniProtKBAccession': 'Q96BA8', 'geneName': 'CREB3L1', 'intActId': 'EBI-6942903'}, 'numberOfExperiments': 3, 'organismDiffer': False}, {'interactantOne': {'uniProtKBAccession': 'Q8NBD8', 'intActId': 'EBI-12195227'}, 'interactantTwo': {'uniProtKBAccession': 'Q15125', 'geneName': 'EBP', 'intActId': 'EBI-3915253'}, 'numberOfExperiments': 3, 'organismDiffer': False}, {'interactantOne': {'uniProtKBAccession': 'Q8NBD8', 'intActId': 'EBI-12195227'}, 'interactantTwo': {'uniProtKBAccession': 'Q9Y282', 'geneName': 'ERGIC3', 'intActId': 'EBI-781551'}, 'numberOfExperiments': 3, 'organismDiffer': False}, {'interactantOne': {'uniProtKBAccession': 'Q8NBD8', 'intActId': 'EBI-12195227'}, 'interactantTwo': {'uniProtKBAccession': 'Q5JX71', 'geneName': 'FAM209A', 'intActId': 'EBI-18304435'}, 'numberOfExperiments': 3, 'organismDiffer': False}, {'interactantOne': {'uniProtKBAccession': 'Q8NBD8', 'intActId': 'EBI-12195227'}, 'interactantTwo': {'uniProtKBAccession': 'Q9Y680', 'geneName': 'FKBP7', 'intActId': 'EBI-3918971'}, 'numberOfExperiments': 3, 'organismDiffer': False}, {'interactantOne': {'uniProtKBAccession': 'Q8NBD8', 'intActId': 'EBI-12195227'}, 'interactantTwo': {'uniProtKBAccession': 'Q5T7V8', 'geneName': 'GORAB', 'intActId': 'EBI-3917143'}, 'numberOfExperiments': 3, 'organismDiffer': False}, {'interactantOne': {'uniProtKBAccession': 'Q8NBD8', 'intActId': 'EBI-12195227'}, 'interactantTwo': {'uniProtKBAccession': 'Q8TED1', 'geneName': 'GPX8', 'intActId': 'EBI-11721746'}, 'numberOfExperiments': 3, 'organismDiffer': False}, {'interactantOne': {'uniProtKBAccession': 'Q8NBD8', 'intActId': 'EBI-12195227'}, 'interactantTwo': {'uniProtKBAccession': 'Q7Z5P4', 'geneName': 'HSD17B13', 'intActId': 'EBI-18053395'}, 'numberOfExperiments': 3, 'organismDiffer': False}, {'interactantOne': {'uniProtKBAccession': 'Q8NBD8', 'intActId': 'EBI-12195227'}, 'interactantTwo': {'uniProtKBAccession': 'P11215', 'geneName': 'ITGAM', 'intActId': 'EBI-2568251'}, 'numberOfExperiments': 3, 'organismDiffer': False}, {'interactantOne': {'uniProtKBAccession': 'Q8NBD8', 'intActId': 'EBI-12195227'}, 'interactantTwo': {'uniProtKBAccession': 'Q8TAF8', 'geneName': 'LHFPL5', 'intActId': 'EBI-2820517'}, 'numberOfExperiments': 3, 'organismDiffer': False}, {'interactantOne': {'uniProtKBAccession': 'Q8NBD8', 'intActId': 'EBI-12195227'}, 'interactantTwo': {'uniProtKBAccession': 'Q9GZY8-5', 'geneName': 'MFF', 'intActId': 'EBI-11956541'}, 'numberOfExperiments': 3, 'organismDiffer': False}, {'interactantOne': {'uniProtKBAccession': 'Q8NBD8', 'intActId': 'EBI-12195227'}, 'interactantTwo': {'uniProtKBAccession': 'Q5SR56', 'geneName': 'MFSD14B', 'intActId': 'EBI-373355'}, 'numberOfExperiments': 3, 'organismDiffer': False}, {'interactantOne': {'uniProtKBAccession': 'Q8NBD8', 'intActId': 'EBI-12195227'}, 'interactantTwo': {'uniProtKBAccession': 'O14880', 'geneName': 'MGST3', 'intActId': 'EBI-724754'}, 'numberOfExperiments': 3, 'organismDiffer': False}, {'interactantOne': {'uniProtKBAccession': 'Q8NBD8', 'intActId': 'EBI-12195227'}, 'interactantTwo': {'uniProtKBAccession': 'Q8N4V1', 'geneName': 'MMGT1', 'intActId': 'EBI-6163737'}, 'numberOfExperiments': 3, 'organismDiffer': False}, {'interactantOne': {'uniProtKBAccession': 'Q8NBD8', 'intActId': 'EBI-12195227'}, 'interactantTwo': {'uniProtKBAccession': 'P15941-11', 'geneName': 'MUC1', 'intActId': 'EBI-17263240'}, 'numberOfExperiments': 3, 'organismDiffer': False}, {'interactantOne': {'uniProtKBAccession': 'Q8NBD8', 'intActId': 'EBI-12195227'}, 'interactantTwo': {'uniProtKBAccession': 'Q9HB07', 'geneName': 'MYG1', 'intActId': 'EBI-709754'}, 'numberOfExperiments': 3, 'organismDiffer': False}, {'interactantOne': {'uniProtKBAccession': 'Q8NBD8', 'intActId': 'EBI-12195227'}, 'interactantTwo': {'uniProtKBAccession': 'O76036-6', 'geneName': 'NCR1', 'intActId': 'EBI-19157577'}, 'numberOfExperiments': 3, 'organismDiffer': False}, {'interactantOne': {'uniProtKBAccession': 'Q8NBD8', 'intActId': 'EBI-12195227'}, 'interactantTwo': {'uniProtKBAccession': 'O14524-2', 'geneName': 'NEMP1', 'intActId': 'EBI-10969203'}, 'numberOfExperiments': 3, 'organismDiffer': False}, {'interactantOne': {'uniProtKBAccession': 'Q8NBD8', 'intActId': 'EBI-12195227'}, 'interactantTwo': {'uniProtKBAccession': 'Q96RD7', 'geneName': 'PANX1', 'intActId': 'EBI-7037612'}, 'numberOfExperiments': 3, 'organismDiffer': False}, {'interactantOne': {'uniProtKBAccession': 'Q8NBD8', 'intActId': 'EBI-12195227'}, 'interactantTwo': {'uniProtKBAccession': 'P57054', 'geneName': 'PIGP', 'intActId': 'EBI-17630288'}, 'numberOfExperiments': 3, 'organismDiffer': False}, {'interactantOne': {'uniProtKBAccession': 'Q8NBD8', 'intActId': 'EBI-12195227'}, 'interactantTwo': {'uniProtKBAccession': 'Q99640-2', 'geneName': 'PKMYT1', 'intActId': 'EBI-12257782'}, 'numberOfExperiments': 3, 'organismDiffer': False}, {'interactantOne': {'uniProtKBAccession': 'Q8NBD8', 'intActId': 'EBI-12195227'}, 'interactantTwo': {'uniProtKBAccession': 'P15151', 'geneName': 'PVR', 'intActId': 'EBI-3919694'}, 'numberOfExperiments': 3, 'organismDiffer': False}, {'interactantOne': {'uniProtKBAccession': 'Q8NBD8', 'intActId': 'EBI-12195227'}, 'interactantTwo': {'uniProtKBAccession': 'Q9H6H4', 'geneName': 'REEP4', 'intActId': 'EBI-7545592'}, 'numberOfExperiments': 3, 'organismDiffer': False}, {'interactantOne': {'uniProtKBAccession': 'Q8NBD8', 'intActId': 'EBI-12195227'}, 'interactantTwo': {'uniProtKBAccession': 'O75396', 'geneName': 'SEC22B', 'intActId': 'EBI-1058865'}, 'numberOfExperiments': 3, 'organismDiffer': False}, {'interactantOne': {'uniProtKBAccession': 'Q8NBD8', 'intActId': 'EBI-12195227'}, 'interactantTwo': {'uniProtKBAccession': 'Q3KNW5', 'geneName': 'SLC10A6', 'intActId': 'EBI-18159983'}, 'numberOfExperiments': 3, 'organismDiffer': False}, {'interactantOne': {'uniProtKBAccession': 'Q8NBD8', 'intActId': 'EBI-12195227'}, 'interactantTwo': {'uniProtKBAccession': 'Q9NP94', 'geneName': 'SLC39A2', 'intActId': 'EBI-12898013'}, 'numberOfExperiments': 3, 'organismDiffer': False}, {'interactantOne': {'uniProtKBAccession': 'Q8NBD8', 'intActId': 'EBI-12195227'}, 'interactantTwo': {'uniProtKBAccession': 'Q8N9I0', 'geneName': 'SYT2', 'intActId': 'EBI-8032987'}, 'numberOfExperiments': 3, 'organismDiffer': False}, {'interactantOne': {'uniProtKBAccession': 'Q8NBD8', 'intActId': 'EBI-12195227'}, 'interactantTwo': {'uniProtKBAccession': 'Q96MV1', 'geneName': 'TLCD4', 'intActId': 'EBI-12947623'}, 'numberOfExperiments': 3, 'organismDiffer': False}, {'interactantOne': {'uniProtKBAccession': 'Q8NBD8', 'intActId': 'EBI-12195227'}, 'interactantTwo': {'uniProtKBAccession': 'Q9NUH8', 'geneName': 'TMEM14B', 'intActId': 'EBI-8638294'}, 'numberOfExperiments': 3, 'organismDiffer': False}, {'interactantOne': {'uniProtKBAccession': 'Q8NBD8', 'intActId': 'EBI-12195227'}, 'interactantTwo': {'uniProtKBAccession': 'Q53FP2', 'geneName': 'TMEM35A', 'intActId': 'EBI-11722971'}, 'numberOfExperiments': 3, 'organismDiffer': False}, {'interactantOne': {'uniProtKBAccession': 'Q8NBD8', 'intActId': 'EBI-12195227'}, 'interactantTwo': {'uniProtKBAccession': 'Q96B21', 'geneName': 'TMEM45B', 'intActId': 'EBI-3923061'}, 'numberOfExperiments': 3, 'organismDiffer': False}, {'interactantOne': {'uniProtKBAccession': 'Q8NBD8', 'intActId': 'EBI-12195227'}, 'interactantTwo': {'uniProtKBAccession': 'O15393-2', 'geneName': 'TMPRSS2', 'intActId': 'EBI-12345267'}, 'numberOfExperiments': 3, 'organismDiffer': False}, {'interactantOne': {'uniProtKBAccession': 'Q8NBD8', 'intActId': 'EBI-12195227'}, 'interactantTwo': {'uniProtKBAccession': 'A0AVG3', 'geneName': 'TSNARE1', 'intActId': 'EBI-12003468'}, 'numberOfExperiments': 3, 'organismDiffer': False}, {'interactantOne': {'uniProtKBAccession': 'Q8NBD8', 'intActId': 'EBI-12195227'}, 'interactantTwo': {'uniProtKBAccession': 'Q9P0L0', 'geneName': 'VAPA', 'intActId': 'EBI-1059156'}, 'numberOfExperiments': 3, 'organismDiffer': False}, {'interactantOne': {'uniProtKBAccession': 'Q8NBD8', 'intActId': 'EBI-12195227'}, 'interactantTwo': {'uniProtKBAccession': 'Q9H7M9', 'geneName': 'VSIR', 'intActId': 'EBI-744988'}, 'numberOfExperiments': 3, 'organismDiffer': False}]}, {'commentType': 'SUBCELLULAR LOCATION', 'subcellularLocations': [{'location': {'evidences': [{'evidenceCode': 'ECO:0000305'}], 'value': 'Membrane', 'id': 'SL-0162'}, 'topology': {'evidences': [{'evidenceCode': 'ECO:0000305'}], 'value': 'Multi-pass membrane protein', 'id': 'SL-9909'}}]}, {'texts': [{'evidences': [{'evidenceCode': 'ECO:0000305'}], 'value': 'Belongs to the TMEM229 family'}], 'commentType': 'SIMILARITY'}], 'features': [{'type': 'Chain', 'location': {'start': {'value': 1, 'modifier': 'EXACT'}, 'end': {'value': 167, 'modifier': 'EXACT'}}, 'description': 'Transmembrane protein 229B', 'featureId': 'PRO_0000263681'}, {'type': 'Topological domain', 'location': {'start': {'value': 1, 'modifier': 'EXACT'}, 'end': {'value': 14, 'modifier': 'EXACT'}}, 'description': 'Cytoplasmic', 'evidences': [{'evidenceCode': 'ECO:0000255'}]}, {'type': 'Transmembrane', 'location': {'start': {'value': 15, 'modifier': 'EXACT'}, 'end': {'value': 35, 'modifier': 'EXACT'}}, 'description': 'Helical', 'evidences': [{'evidenceCode': 'ECO:0000255'}]}, {'type': 'Topological domain', 'location': {'start': {'value': 36, 'modifier': 'EXACT'}, 'end': {'value': 40, 'modifier': 'EXACT'}}, 'description': 'Extracellular', 'evidences': [{'evidenceCode': 'ECO:0000255'}]}, {'type': 'Transmembrane', 'location': {'start': {'value': 41, 'modifier': 'EXACT'}, 'end': {'value': 61, 'modifier': 'EXACT'}}, 'description': 'Helical', 'evidences': [{'evidenceCode': 'ECO:0000255'}]}, {'type': 'Topological domain', 'location': {'start': {'value': 62, 'modifier': 'EXACT'}, 'end': {'value': 73, 'modifier': 'EXACT'}}, 'description': 'Cytoplasmic', 'evidences': [{'evidenceCode': 'ECO:0000255'}]}, {'type': 'Transmembrane', 'location': {'start': {'value': 74, 'modifier': 'EXACT'}, 'end': {'value': 94, 'modifier': 'EXACT'}}, 'description': 'Helical', 'evidences': [{'evidenceCode': 'ECO:0000255'}]}, {'type': 'Topological domain', 'location': {'start': {'value': 95, 'modifier': 'EXACT'}, 'end': {'value': 109, 'modifier': 'EXACT'}}, 'description': 'Extracellular', 'evidences': [{'evidenceCode': 'ECO:0000255'}]}, {'type': 'Transmembrane', 'location': {'start': {'value': 110, 'modifier': 'EXACT'}, 'end': {'value': 130, 'modifier': 'EXACT'}}, 'description': 'Helical', 'evidences': [{'evidenceCode': 'ECO:0000255'}]}, {'type': 'Topological domain', 'location': {'start': {'value': 131, 'modifier': 'EXACT'}, 'end': {'value': 167, 'modifier': 'EXACT'}}, 'description': 'Cytoplasmic', 'evidences': [{'evidenceCode': 'ECO:0000255'}]}], 'keywords': [{'id': 'KW-0472', 'category': 'Cellular component', 'name': 'Membrane'}, {'id': 'KW-1185', 'category': 'Technical term', 'name': 'Reference proteome'}, {'id': 'KW-0812', 'category': 'Domain', 'name': 'Transmembrane'}, {'id': 'KW-1133', 'category': 'Domain', 'name': 'Transmembrane helix'}], 'references': [{'referenceNumber': 1, 'citation': {'id': '14702039', 'citationType': 'journal article', 'authors': ['Ota T.', 'Suzuki Y.', 'Nishikawa T.', 'Otsuki T.', 'Sugiyama T.', 'Irie R.', 'Wakamatsu A.', 'Hayashi K.', 'Sato H.', 'Nagai K.', 'Kimura K.', 'Makita H.', 'Sekine M.', 'Obayashi M.', 'Nishi T.', 'Shibahara T.', 'Tanaka T.', 'Ishii S.', 'Yamamoto J.', 'Saito K.', 'Kawai Y.', 'Isono Y.', 'Nakamura Y.', 'Nagahari K.', 'Murakami K.', 'Yasuda T.', 'Iwayanagi T.', 'Wagatsuma M.', 'Shiratori A.', 'Sudo H.', 'Hosoiri T.', 'Kaku Y.', 'Kodaira H.', 'Kondo H.', 'Sugawara M.', 'Takahashi M.', 'Kanda K.', 'Yokoi T.', 'Furuya T.', 'Kikkawa E.', 'Omura Y.', 'Abe K.', 'Kamihara K.', 'Katsuta N.', 'Sato K.', 'Tanikawa M.', 'Yamazaki M.', 'Ninomiya K.', 'Ishibashi T.', 'Yamashita H.', 'Murakawa K.', 'Fujimori K.', 'Tanai H.', 'Kimata M.', 'Watanabe M.', 'Hiraoka S.', 'Chiba Y.', 'Ishida S.', 'Ono Y.', 'Takiguchi S.', 'Watanabe S.', 'Yosida M.', 'Hotuta T.', 'Kusano J.', 'Kanehori K.', 'Takahashi-Fujii A.', 'Hara H.', 'Tanase T.-O.', 'Nomura Y.', 'Togiya S.', 'Komai F.', 'Hara R.', 'Takeuchi K.', 'Arita M.', 'Imose N.', 'Musashino K.', 'Yuuki H.', 'Oshima A.', 'Sasaki N.', 'Aotsuka S.', 'Yoshikawa Y.', 'Matsunawa H.', 'Ichihara T.', 'Shiohata N.', 'Sano S.', 'Moriya S.', 'Momiyama H.', 'Satoh N.', 'Takami S.', 'Terashima Y.', 'Suzuki O.', 'Nakagawa S.', 'Senoh A.', 'Mizoguchi H.', 'Goto Y.', 'Shimizu F.', 'Wakebe H.', 'Hishigaki H.', 'Watanabe T.', 'Sugiyama A.', 'Takemoto M.', 'Kawakami B.', 'Yamazaki M.', 'Watanabe K.', 'Kumagai A.', 'Itakura S.', 'Fukuzumi Y.', 'Fujimori Y.', 'Komiyama M.', 'Tashiro H.', 'Tanigami A.', 'Fujiwara T.', 'Ono T.', 'Yamada K.', 'Fujii Y.', 'Ozaki K.', 'Hirao M.', 'Ohmori Y.', 'Kawabata A.', 'Hikiji T.', 'Kobatake N.', 'Inagaki H.', 'Ikema Y.', 'Okamoto S.', 'Okitani R.', 'Kawakami T.', 'Noguchi S.', 'Itoh T.', 'Shigeta K.', 'Senba T.', 'Matsumura K.', 'Nakajima Y.', 'Mizuno T.', 'Morinaga M.', 'Sasaki M.', 'Togashi T.', 'Oyama M.', 'Hata H.', 'Watanabe M.', 'Komatsu T.', 'Mizushima-Sugano J.', 'Satoh T.', 'Shirai Y.', 'Takahashi Y.', 'Nakagawa K.', 'Okumura K.', 'Nagase T.', 'Nomura N.', 'Kikuchi H.', 'Masuho Y.', 'Yamashita R.', 'Nakai K.', 'Yada T.', 'Nakamura Y.', 'Ohara O.', 'Isogai T.', 'Sugano S.'], 'citationCrossReferences': [{'database': 'PubMed', 'id': '14702039'}, {'database': 'DOI', 'id': '10.1038/ng1285'}], 'title': 'Complete sequencing and characterization of 21,243 full-length human cDNAs.', 'publicationDate': '2004', 'journal': 'Nat. Genet.', 'firstPage': '40', 'lastPage': '45', 'volume': '36'}, 'referencePositions': ['NUCLEOTIDE SEQUENCE [LARGE SCALE MRNA]'], 'referenceComments': [{'value': 'Cerebellum', 'type': 'TISSUE'}]}, {'referenceNumber': 2, 'citation': {'id': '15489334', 'citationType': 'journal article', 'authoringGroup': ['The MGC Project Team'], 'citationCrossReferences': [{'database': 'PubMed', 'id': '15489334'}, {'database': 'DOI', 'id': '10.1101/gr.2596504'}], 'title': 'The status, quality, and expansion of the NIH full-length cDNA project: the Mammalian Gene Collection (MGC).', 'publicationDate': '2004', 'journal': 'Genome Res.', 'firstPage': '2121', 'lastPage': '2127', 'volume': '14'}, 'referencePositions': ['NUCLEOTIDE SEQUENCE [LARGE SCALE MRNA]'], 'referenceComments': [{'value': 'Brain', 'type': 'TISSUE'}]}], 'uniProtKBCrossReferences': [{'database': 'EMBL', 'id': 'AK090706', 'properties': [{'key': 'ProteinId', 'value': 'BAC03507.1'}, {'key': 'Status', 'value': '-'}, {'key': 'MoleculeType', 'value': 'mRNA'}]}, {'database': 'EMBL', 'id': 'BC104940', 'properties': [{'key': 'ProteinId', 'value': 'AAI04941.1'}, {'key': 'Status', 'value': '-'}, {'key': 'MoleculeType', 'value': 'mRNA'}]}, {'database': 'EMBL', 'id': 'BC104942', 'properties': [{'key': 'ProteinId', 'value': 'AAI04943.1'}, {'key': 'Status', 'value': '-'}, {'key': 'MoleculeType', 'value': 'mRNA'}]}, {'database': 'CCDS', 'id': 'CCDS9783.1', 'properties': [{'key': 'Description', 'value': '-'}]}, {'database': 'RefSeq', 'id': 'NP_001335471.1', 'properties': [{'key': 'NucleotideSequenceId', 'value': 'NM_001348542.1'}]}, {'database': 'RefSeq', 'id': 'NP_001335472.1', 'properties': [{'key': 'NucleotideSequenceId', 'value': 'NM_001348543.1'}]}, {'database': 'RefSeq', 'id': 'NP_001335473.1', 'properties': [{'key': 'NucleotideSequenceId', 'value': 'NM_001348544.1'}]}, {'database': 'RefSeq', 'id': 'NP_001335475.1', 'properties': [{'key': 'NucleotideSequenceId', 'value': 'NM_001348546.1'}]}, {'database': 'RefSeq', 'id': 'NP_001335476.1', 'properties': [{'key': 'NucleotideSequenceId', 'value': 'NM_001348547.1'}]}, {'database': 'RefSeq', 'id': 'NP_001335477.1', 'properties': [{'key': 'NucleotideSequenceId', 'value': 'NM_001348548.1'}]}, {'database': 'RefSeq', 'id': 'NP_001335478.1', 'properties': [{'key': 'NucleotideSequenceId', 'value': 'NM_001348549.1'}]}, {'database': 'RefSeq', 'id': 'NP_872332.1', 'properties': [{'key': 'NucleotideSequenceId', 'value': 'NM_182526.2'}]}, {'database': 'RefSeq', 'id': 'XP_016876542.1', 'properties': [{'key': 'NucleotideSequenceId', 'value': 'XM_017021053.1'}]}, {'database': 'RefSeq', 'id': 'XP_016876544.1', 'properties': [{'key': 'NucleotideSequenceId', 'value': 'XM_017021055.1'}]}, {'database': 'AlphaFoldDB', 'id': 'Q8NBD8', 'properties': [{'key': 'Description', 'value': '-'}]}, {'database': 'BioGRID', 'id': '127773', 'properties': [{'key': 'Interactions', 'value': '43'}]}, {'database': 'IntAct', 'id': 'Q8NBD8', 'properties': [{'key': 'Interactions', 'value': '42'}]}, {'database': 'STRING', 'id': '9606.ENSP00000350050', 'properties': [{'key': 'Description', 'value': '-'}]}, {'database': 'BioMuta', 'id': 'TMEM229B', 'properties': [{'key': 'Description', 'value': '-'}]}, {'database': 'DMDM', 'id': '74730125', 'properties': [{'key': 'Description', 'value': '-'}]}, {'database': 'MassIVE', 'id': 'Q8NBD8', 'properties': [{'key': 'Description', 'value': '-'}]}, {'database': 'PaxDb', 'id': '9606-ENSP00000350050', 'properties': [{'key': 'Description', 'value': '-'}]}, {'database': 'PeptideAtlas', 'id': 'Q8NBD8', 'properties': [{'key': 'Description', 'value': '-'}]}, {'database': 'TopDownProteomics', 'id': 'Q8NBD8', 'properties': [{'key': 'Description', 'value': '-'}]}, {'database': 'Antibodypedia', 'id': '52317', 'properties': [{'key': 'antibodies', 'value': '5 antibodies from 5 providers'}]}, {'database': 'DNASU', 'id': '161145', 'properties': [{'key': 'Description', 'value': '-'}]}, {'database': 'Ensembl', 'id': 'ENST00000357461.7', 'properties': [{'key': 'ProteinId', 'value': 'ENSP00000350050.2'}, {'key': 'GeneId', 'value': 'ENSG00000198133.9'}]}, {'database': 'Ensembl', 'id': 'ENST00000554278.6', 'properties': [{'key': 'ProteinId', 'value': 'ENSP00000452402.2'}, {'key': 'GeneId', 'value': 'ENSG00000198133.9'}]}, {'database': 'Ensembl', 'id': 'ENST00000554480.6', 'properties': [{'key': 'ProteinId', 'value': 'ENSP00000450859.2'}, {'key': 'GeneId', 'value': 'ENSG00000198133.9'}]}, {'database': 'Ensembl', 'id': 'ENST00000555638.5', 'properties': [{'key': 'ProteinId', 'value': 'ENSP00000452201.1'}, {'key': 'GeneId', 'value': 'ENSG00000198133.9'}]}, {'database': 'Ensembl', 'id': 'ENST00000555994.6', 'properties': [{'key': 'ProteinId', 'value': 'ENSP00000452144.2'}, {'key': 'GeneId', 'value': 'ENSG00000198133.9'}]}, {'database': 'Ensembl', 'id': 'ENST00000557006.6', 'properties': [{'key': 'ProteinId', 'value': 'ENSP00000451774.1'}, {'key': 'GeneId', 'value': 'ENSG00000198133.9'}]}, {'database': 'GeneID', 'id': '161145', 'properties': [{'key': 'Description', 'value': '-'}]}, {'database': 'KEGG', 'id': 'hsa:161145', 'properties': [{'key': 'Description', 'value': '-'}]}, {'database': 'MANE-Select', 'id': 'ENST00000554480.6', 'properties': [{'key': 'ProteinId', 'value': 'ENSP00000450859.2'}, {'key': 'RefSeqNucleotideId', 'value': 'NM_001348543.2'}, {'key': 'RefSeqProteinId', 'value': 'NP_001335472.1'}]}, {'database': 'UCSC', 'id': 'uc001xjj.2', 'properties': [{'key': 'OrganismName', 'value': 'human'}]}, {'database': 'AGR', 'id': 'HGNC:20130', 'properties': [{'key': 'Description', 'value': '-'}]}, {'database': 'CTD', 'id': '161145', 'properties': [{'key': 'Description', 'value': '-'}]}, {'database': 'DisGeNET', 'id': '161145', 'properties': [{'key': 'Description', 'value': '-'}]}, {'database': 'GeneCards', 'id': 'TMEM229B', 'properties': [{'key': 'Description', 'value': '-'}]}, {'database': 'HGNC', 'id': 'HGNC:20130', 'properties': [{'key': 'GeneName', 'value': 'TMEM229B'}]}, {'database': 'HPA', 'id': 'ENSG00000198133', 'properties': [{'key': 'ExpressionPatterns', 'value': 'Tissue enhanced (brain)'}]}, {'database': 'MIM', 'id': '619022', 'properties': [{'key': 'Type', 'value': 'gene'}]}, {'database': 'neXtProt', 'id': 'NX_Q8NBD8', 'properties': [{'key': 'Description', 'value': '-'}]}, {'database': 'OpenTargets', 'id': 'ENSG00000198133', 'properties': [{'key': 'Description', 'value': '-'}]}, {'database': 'PharmGKB', 'id': 'PA165479330', 'properties': [{'key': 'Description', 'value': '-'}]}, {'database': 'VEuPathDB', 'id': 'HostDB:ENSG00000198133', 'properties': [{'key': 'Description', 'value': '-'}]}, {'database': 'eggNOG', 'id': 'ENOG502QTFF', 'properties': [{'key': 'ToxonomicScope', 'value': 'Eukaryota'}]}, {'database': 'GeneTree', 'id': 'ENSGT00390000010899', 'properties': [{'key': 'Description', 'value': '-'}]}, {'database': 'HOGENOM', 'id': 'CLU_102218_0_0_1', 'properties': [{'key': 'Description', 'value': '-'}]}, {'database': 'InParanoid', 'id': 'Q8NBD8', 'properties': [{'key': 'Description', 'value': '-'}]}, {'database': 'OMA', 'id': 'WDYSQFR', 'properties': [{'key': 'Fingerprint', 'value': '-'}]}, {'database': 'OrthoDB', 'id': '5340854at2759', 'properties': [{'key': 'Description', 'value': '-'}]}, {'database': 'PhylomeDB', 'id': 'Q8NBD8', 'properties': [{'key': 'Description', 'value': '-'}]}, {'database': 'TreeFam', 'id': 'TF336481', 'properties': [{'key': 'Description', 'value': '-'}]}, {'database': 'PathwayCommons', 'id': 'Q8NBD8', 'properties': [{'key': 'Description', 'value': '-'}]}, {'database': 'SignaLink', 'id': 'Q8NBD8', 'properties': [{'key': 'Description', 'value': '-'}]}, {'database': 'BioGRID-ORCS', 'id': '161145', 'properties': [{'key': 'hits', 'value': '16 hits in 1139 CRISPR screens'}]}, {'database': 'ChiTaRS', 'id': 'TMEM229B', 'properties': [{'key': 'OrganismName', 'value': 'human'}]}, {'database': 'GeneWiki', 'id': 'TMEM229B', 'properties': [{'key': 'Description', 'value': '-'}]}, {'database': 'GenomeRNAi', 'id': '161145', 'properties': [{'key': 'Description', 'value': '-'}]}, {'database': 'Pharos', 'id': 'Q8NBD8', 'properties': [{'key': 'DevelopmentLevel', 'value': 'Tdark'}]}, {'database': 'PRO', 'id': 'PR:Q8NBD8', 'properties': [{'key': 'Description', 'value': '-'}]}, {'database': 'Proteomes', 'id': 'UP000005640', 'properties': [{'key': 'Component', 'value': 'Chromosome 14'}]}, {'database': 'RNAct', 'id': 'Q8NBD8', 'properties': [{'key': 'moleculeType', 'value': 'protein'}]}, {'database': 'Bgee', 'id': 'ENSG00000198133', 'properties': [{'key': 'ExpressionPatterns', 'value': 'Expressed in lateral nuclear group of thalamus and 153 other cell types or tissues'}]}, {'database': 'ExpressionAtlas', 'id': 'Q8NBD8', 'properties': [{'key': 'ExpressionPatterns', 'value': 'baseline and differential'}]}, {'database': 'GO', 'id': 'GO:0016020', 'properties': [{'key': 'GoTerm', 'value': 'C:membrane'}, {'key': 'GoEvidenceType', 'value': 'IEA:UniProtKB-SubCell'}]}, {'database': 'GO', 'id': 'GO:0042116', 'properties': [{'key': 'GoTerm', 'value': 'P:macrophage activation'}, {'key': 'GoEvidenceType', 'value': 'IEA:Ensembl'}]}, {'database': 'GO', 'id': 'GO:0009617', 'properties': [{'key': 'GoTerm', 'value': 'P:response to bacterium'}, {'key': 'GoEvidenceType', 'value': 'IEA:Ensembl'}]}, {'database': 'InterPro', 'id': 'IPR010540', 'properties': [{'key': 'EntryName', 'value': 'CmpB_TMEM229'}]}, {'database': 'PANTHER', 'id': 'PTHR31746', 'properties': [{'key': 'EntryName', 'value': 'TRANSMEMBRANE PROTEIN 229 FAMILY MEMBER'}, {'key': 'MatchStatus', 'value': '1'}]}, {'database': 'PANTHER', 'id': 'PTHR31746:SF3', 'properties': [{'key': 'EntryName', 'value': 'TRANSMEMBRANE PROTEIN 229B'}, {'key': 'MatchStatus', 'value': '1'}]}, {'database': 'Pfam', 'id': 'PF06541', 'properties': [{'key': 'EntryName', 'value': 'ABC_trans_CmpB'}, {'key': 'MatchStatus', 'value': '1'}]}], 'sequence': {'value': 'MASAEPLTALSRWYLYAIHGYFCEVMFTAAWEFVVNLNWKFPGVTSVWALFIYGTSILIVERMYLRLRGRCPLLLRCLIYTLWTYLWEFTTGFILRQFNACPWDYSQFDFDFMGLITLEYAVPWFCGALIMEQFIIRNTLRLRFDKDAEPGEPSGALALANGHVKTD', 'length': 167, 'molWeight': 19531, 'crc64': '0C7507C6F00F0D85', 'md5': 'F10B7B9134DC7C2779F0EF100AA6D66C'}, 'extraAttributes': {'countByCommentType': {'INTERACTION': 42, 'SUBCELLULAR LOCATION': 1, 'SIMILARITY': 1}, 'countByFeatureType': {'Chain': 1, 'Topological domain': 5, 'Transmembrane': 4}, 'uniParcId': 'UPI000006FC83'}}\n"
     ]
    }
   ],
   "source": [
    "response = requests.get('https://rest.uniprot.org/uniprotkb/{}'.format('Q8NBD8'))\n",
    "\n",
    "if response.status_code == 200:\n",
    "  print(response.json())\n",
    "else:\n",
    "  print('Error {}'.format(response.status_code))"
   ]
  },
  {
   "cell_type": "markdown",
   "metadata": {},
   "source": [
    "Build a list of JSON-formatted Uniprot data, then flatten it into a DF"
   ]
  },
  {
   "cell_type": "code",
   "execution_count": 51,
   "metadata": {},
   "outputs": [
    {
     "name": "stderr",
     "output_type": "stream",
     "text": [
      "100%|██████████| 502/502 [03:20<00:00,  2.50it/s]\n"
     ]
    }
   ],
   "source": [
    "protein_data = []\n",
    "url = 'https://rest.uniprot.org/uniprotkb/'\n",
    "\n",
    "for protein in tqdm.tqdm(unique_proteins):\n",
    "  response = requests.get(url + protein)\n",
    "\n",
    "  if response.status_code == 200:\n",
    "    protein_data.append(response.json())\n",
    "  else:\n",
    "    print('Protein {}: Error {}'.format(protein, response.status_code()))\n",
    "    protein_data.append({})"
   ]
  },
  {
   "cell_type": "code",
   "execution_count": 130,
   "metadata": {},
   "outputs": [
    {
     "data": {
      "text/html": [
       "<div>\n",
       "<style scoped>\n",
       "    .dataframe tbody tr th:only-of-type {\n",
       "        vertical-align: middle;\n",
       "    }\n",
       "\n",
       "    .dataframe tbody tr th {\n",
       "        vertical-align: top;\n",
       "    }\n",
       "\n",
       "    .dataframe thead th {\n",
       "        text-align: right;\n",
       "    }\n",
       "</style>\n",
       "<table border=\"1\" class=\"dataframe\">\n",
       "  <thead>\n",
       "    <tr style=\"text-align: right;\">\n",
       "      <th></th>\n",
       "      <th>entryType</th>\n",
       "      <th>primaryAccession</th>\n",
       "      <th>secondaryAccessions</th>\n",
       "      <th>uniProtkbId</th>\n",
       "      <th>entryAudit</th>\n",
       "      <th>annotationScore</th>\n",
       "      <th>organism</th>\n",
       "      <th>proteinExistence</th>\n",
       "      <th>proteinDescription</th>\n",
       "      <th>genes</th>\n",
       "      <th>comments</th>\n",
       "      <th>features</th>\n",
       "      <th>keywords</th>\n",
       "      <th>references</th>\n",
       "      <th>uniProtKBCrossReferences</th>\n",
       "      <th>sequence</th>\n",
       "      <th>extraAttributes</th>\n",
       "      <th>geneLocations</th>\n",
       "      <th>inactiveReason</th>\n",
       "    </tr>\n",
       "  </thead>\n",
       "  <tbody>\n",
       "    <tr>\n",
       "      <th>0</th>\n",
       "      <td>UniProtKB reviewed (Swiss-Prot)</td>\n",
       "      <td>Q9H1A4</td>\n",
       "      <td>[Q2M3H8, Q9BSE6, Q9H8D0]</td>\n",
       "      <td>APC1_HUMAN</td>\n",
       "      <td>{'firstPublicDate': '2003-10-03', 'lastAnnotat...</td>\n",
       "      <td>5.0</td>\n",
       "      <td>{'scientificName': 'Homo sapiens', 'commonName...</td>\n",
       "      <td>1: Evidence at protein level</td>\n",
       "      <td>{'recommendedName': {'fullName': {'value': 'An...</td>\n",
       "      <td>[{'geneName': {'value': 'ANAPC1'}, 'synonyms':...</td>\n",
       "      <td>[{'texts': [{'evidences': [{'evidenceCode': 'E...</td>\n",
       "      <td>[{'type': 'Chain', 'location': {'start': {'val...</td>\n",
       "      <td>[{'id': 'KW-0002', 'category': 'Technical term...</td>\n",
       "      <td>[{'referenceNumber': 1, 'citation': {'id': '11...</td>\n",
       "      <td>[{'database': 'EMBL', 'id': 'AJ278357', 'prope...</td>\n",
       "      <td>{'value': 'MSNFYEERTTMIAARDLQEFVPFGRDHCKHHPNAL...</td>\n",
       "      <td>{'countByCommentType': {'FUNCTION': 1, 'PATHWA...</td>\n",
       "      <td>NaN</td>\n",
       "      <td>NaN</td>\n",
       "    </tr>\n",
       "    <tr>\n",
       "      <th>1</th>\n",
       "      <td>UniProtKB reviewed (Swiss-Prot)</td>\n",
       "      <td>Q9H4K7</td>\n",
       "      <td>[A6NDR3, B4DR85, Q96I17, Q9NVG9, Q9UFR4]</td>\n",
       "      <td>MTG2_HUMAN</td>\n",
       "      <td>{'firstPublicDate': '2003-07-03', 'lastAnnotat...</td>\n",
       "      <td>5.0</td>\n",
       "      <td>{'scientificName': 'Homo sapiens', 'commonName...</td>\n",
       "      <td>1: Evidence at protein level</td>\n",
       "      <td>{'recommendedName': {'fullName': {'value': 'Mi...</td>\n",
       "      <td>[{'geneName': {'value': 'MTG2'}, 'synonyms': [...</td>\n",
       "      <td>[{'texts': [{'evidences': [{'evidenceCode': 'E...</td>\n",
       "      <td>[{'type': 'Chain', 'location': {'start': {'val...</td>\n",
       "      <td>[{'id': 'KW-0002', 'category': 'Technical term...</td>\n",
       "      <td>[{'referenceNumber': 1, 'citation': {'id': '14...</td>\n",
       "      <td>[{'database': 'EMBL', 'id': 'AK001603', 'prope...</td>\n",
       "      <td>{'value': 'MAPARCFSARLRTVFQGVGHWALSTWAGLKPSRLL...</td>\n",
       "      <td>{'countByCommentType': {'FUNCTION': 1, 'COFACT...</td>\n",
       "      <td>NaN</td>\n",
       "      <td>NaN</td>\n",
       "    </tr>\n",
       "    <tr>\n",
       "      <th>2</th>\n",
       "      <td>UniProtKB reviewed (Swiss-Prot)</td>\n",
       "      <td>P14678</td>\n",
       "      <td>[Q15490, Q6IB35, Q9UIS5]</td>\n",
       "      <td>RSMB_HUMAN</td>\n",
       "      <td>{'firstPublicDate': '1990-04-01', 'lastAnnotat...</td>\n",
       "      <td>5.0</td>\n",
       "      <td>{'scientificName': 'Homo sapiens', 'commonName...</td>\n",
       "      <td>1: Evidence at protein level</td>\n",
       "      <td>{'recommendedName': {'fullName': {'value': 'Sm...</td>\n",
       "      <td>[{'geneName': {'value': 'SNRPB'}, 'synonyms': ...</td>\n",
       "      <td>[{'texts': [{'evidences': [{'evidenceCode': 'E...</td>\n",
       "      <td>[{'type': 'Chain', 'location': {'start': {'val...</td>\n",
       "      <td>[{'id': 'KW-0002', 'category': 'Technical term...</td>\n",
       "      <td>[{'referenceNumber': 1, 'citation': {'id': '25...</td>\n",
       "      <td>[{'database': 'EMBL', 'id': 'X17567', 'propert...</td>\n",
       "      <td>{'value': 'MTVGKSSKMLQHIDYRMRCILQDGRIFIGTFKAFD...</td>\n",
       "      <td>{'countByCommentType': {'FUNCTION': 1, 'SUBUNI...</td>\n",
       "      <td>NaN</td>\n",
       "      <td>NaN</td>\n",
       "    </tr>\n",
       "    <tr>\n",
       "      <th>3</th>\n",
       "      <td>UniProtKB reviewed (Swiss-Prot)</td>\n",
       "      <td>O43676</td>\n",
       "      <td>[Q6IB80]</td>\n",
       "      <td>NDUB3_HUMAN</td>\n",
       "      <td>{'firstPublicDate': '1999-07-15', 'lastAnnotat...</td>\n",
       "      <td>5.0</td>\n",
       "      <td>{'scientificName': 'Homo sapiens', 'commonName...</td>\n",
       "      <td>1: Evidence at protein level</td>\n",
       "      <td>{'recommendedName': {'fullName': {'value': 'NA...</td>\n",
       "      <td>[{'geneName': {'value': 'NDUFB3'}}]</td>\n",
       "      <td>[{'texts': [{'evidences': [{'evidenceCode': 'E...</td>\n",
       "      <td>[{'type': 'Initiator methionine', 'location': ...</td>\n",
       "      <td>[{'id': 'KW-0002', 'category': 'Technical term...</td>\n",
       "      <td>[{'referenceNumber': 1, 'citation': {'id': '94...</td>\n",
       "      <td>[{'database': 'EMBL', 'id': 'AF047183', 'prope...</td>\n",
       "      <td>{'value': 'MAHEHGHEHGHHKMELPDYRQWKIEGTPLETIQKK...</td>\n",
       "      <td>{'countByCommentType': {'FUNCTION': 1, 'SUBUNI...</td>\n",
       "      <td>NaN</td>\n",
       "      <td>NaN</td>\n",
       "    </tr>\n",
       "    <tr>\n",
       "      <th>4</th>\n",
       "      <td>UniProtKB reviewed (Swiss-Prot)</td>\n",
       "      <td>P28749</td>\n",
       "      <td>[A8K2W5, Q4VXA0, Q8N5K6, Q9H1L5, Q9H1M1]</td>\n",
       "      <td>RBL1_HUMAN</td>\n",
       "      <td>{'firstPublicDate': '1992-12-01', 'lastAnnotat...</td>\n",
       "      <td>5.0</td>\n",
       "      <td>{'scientificName': 'Homo sapiens', 'commonName...</td>\n",
       "      <td>1: Evidence at protein level</td>\n",
       "      <td>{'recommendedName': {'fullName': {'value': 'Re...</td>\n",
       "      <td>[{'geneName': {'value': 'RBL1'}}]</td>\n",
       "      <td>[{'texts': [{'evidences': [{'evidenceCode': 'E...</td>\n",
       "      <td>[{'type': 'Chain', 'location': {'start': {'val...</td>\n",
       "      <td>[{'id': 'KW-0002', 'category': 'Technical term...</td>\n",
       "      <td>[{'referenceNumber': 1, 'citation': {'id': '83...</td>\n",
       "      <td>[{'database': 'EMBL', 'id': 'L14812', 'propert...</td>\n",
       "      <td>{'value': 'MFEDKPHAEGAAVVAAAGEALQALCQELNLDEGSA...</td>\n",
       "      <td>{'countByCommentType': {'FUNCTION': 1, 'SUBUNI...</td>\n",
       "      <td>NaN</td>\n",
       "      <td>NaN</td>\n",
       "    </tr>\n",
       "  </tbody>\n",
       "</table>\n",
       "</div>"
      ],
      "text/plain": [
       "                         entryType primaryAccession  \\\n",
       "0  UniProtKB reviewed (Swiss-Prot)           Q9H1A4   \n",
       "1  UniProtKB reviewed (Swiss-Prot)           Q9H4K7   \n",
       "2  UniProtKB reviewed (Swiss-Prot)           P14678   \n",
       "3  UniProtKB reviewed (Swiss-Prot)           O43676   \n",
       "4  UniProtKB reviewed (Swiss-Prot)           P28749   \n",
       "\n",
       "                        secondaryAccessions  uniProtkbId  \\\n",
       "0                  [Q2M3H8, Q9BSE6, Q9H8D0]   APC1_HUMAN   \n",
       "1  [A6NDR3, B4DR85, Q96I17, Q9NVG9, Q9UFR4]   MTG2_HUMAN   \n",
       "2                  [Q15490, Q6IB35, Q9UIS5]   RSMB_HUMAN   \n",
       "3                                  [Q6IB80]  NDUB3_HUMAN   \n",
       "4  [A8K2W5, Q4VXA0, Q8N5K6, Q9H1L5, Q9H1M1]   RBL1_HUMAN   \n",
       "\n",
       "                                          entryAudit  annotationScore  \\\n",
       "0  {'firstPublicDate': '2003-10-03', 'lastAnnotat...              5.0   \n",
       "1  {'firstPublicDate': '2003-07-03', 'lastAnnotat...              5.0   \n",
       "2  {'firstPublicDate': '1990-04-01', 'lastAnnotat...              5.0   \n",
       "3  {'firstPublicDate': '1999-07-15', 'lastAnnotat...              5.0   \n",
       "4  {'firstPublicDate': '1992-12-01', 'lastAnnotat...              5.0   \n",
       "\n",
       "                                            organism  \\\n",
       "0  {'scientificName': 'Homo sapiens', 'commonName...   \n",
       "1  {'scientificName': 'Homo sapiens', 'commonName...   \n",
       "2  {'scientificName': 'Homo sapiens', 'commonName...   \n",
       "3  {'scientificName': 'Homo sapiens', 'commonName...   \n",
       "4  {'scientificName': 'Homo sapiens', 'commonName...   \n",
       "\n",
       "               proteinExistence  \\\n",
       "0  1: Evidence at protein level   \n",
       "1  1: Evidence at protein level   \n",
       "2  1: Evidence at protein level   \n",
       "3  1: Evidence at protein level   \n",
       "4  1: Evidence at protein level   \n",
       "\n",
       "                                  proteinDescription  \\\n",
       "0  {'recommendedName': {'fullName': {'value': 'An...   \n",
       "1  {'recommendedName': {'fullName': {'value': 'Mi...   \n",
       "2  {'recommendedName': {'fullName': {'value': 'Sm...   \n",
       "3  {'recommendedName': {'fullName': {'value': 'NA...   \n",
       "4  {'recommendedName': {'fullName': {'value': 'Re...   \n",
       "\n",
       "                                               genes  \\\n",
       "0  [{'geneName': {'value': 'ANAPC1'}, 'synonyms':...   \n",
       "1  [{'geneName': {'value': 'MTG2'}, 'synonyms': [...   \n",
       "2  [{'geneName': {'value': 'SNRPB'}, 'synonyms': ...   \n",
       "3                [{'geneName': {'value': 'NDUFB3'}}]   \n",
       "4                  [{'geneName': {'value': 'RBL1'}}]   \n",
       "\n",
       "                                            comments  \\\n",
       "0  [{'texts': [{'evidences': [{'evidenceCode': 'E...   \n",
       "1  [{'texts': [{'evidences': [{'evidenceCode': 'E...   \n",
       "2  [{'texts': [{'evidences': [{'evidenceCode': 'E...   \n",
       "3  [{'texts': [{'evidences': [{'evidenceCode': 'E...   \n",
       "4  [{'texts': [{'evidences': [{'evidenceCode': 'E...   \n",
       "\n",
       "                                            features  \\\n",
       "0  [{'type': 'Chain', 'location': {'start': {'val...   \n",
       "1  [{'type': 'Chain', 'location': {'start': {'val...   \n",
       "2  [{'type': 'Chain', 'location': {'start': {'val...   \n",
       "3  [{'type': 'Initiator methionine', 'location': ...   \n",
       "4  [{'type': 'Chain', 'location': {'start': {'val...   \n",
       "\n",
       "                                            keywords  \\\n",
       "0  [{'id': 'KW-0002', 'category': 'Technical term...   \n",
       "1  [{'id': 'KW-0002', 'category': 'Technical term...   \n",
       "2  [{'id': 'KW-0002', 'category': 'Technical term...   \n",
       "3  [{'id': 'KW-0002', 'category': 'Technical term...   \n",
       "4  [{'id': 'KW-0002', 'category': 'Technical term...   \n",
       "\n",
       "                                          references  \\\n",
       "0  [{'referenceNumber': 1, 'citation': {'id': '11...   \n",
       "1  [{'referenceNumber': 1, 'citation': {'id': '14...   \n",
       "2  [{'referenceNumber': 1, 'citation': {'id': '25...   \n",
       "3  [{'referenceNumber': 1, 'citation': {'id': '94...   \n",
       "4  [{'referenceNumber': 1, 'citation': {'id': '83...   \n",
       "\n",
       "                            uniProtKBCrossReferences  \\\n",
       "0  [{'database': 'EMBL', 'id': 'AJ278357', 'prope...   \n",
       "1  [{'database': 'EMBL', 'id': 'AK001603', 'prope...   \n",
       "2  [{'database': 'EMBL', 'id': 'X17567', 'propert...   \n",
       "3  [{'database': 'EMBL', 'id': 'AF047183', 'prope...   \n",
       "4  [{'database': 'EMBL', 'id': 'L14812', 'propert...   \n",
       "\n",
       "                                            sequence  \\\n",
       "0  {'value': 'MSNFYEERTTMIAARDLQEFVPFGRDHCKHHPNAL...   \n",
       "1  {'value': 'MAPARCFSARLRTVFQGVGHWALSTWAGLKPSRLL...   \n",
       "2  {'value': 'MTVGKSSKMLQHIDYRMRCILQDGRIFIGTFKAFD...   \n",
       "3  {'value': 'MAHEHGHEHGHHKMELPDYRQWKIEGTPLETIQKK...   \n",
       "4  {'value': 'MFEDKPHAEGAAVVAAAGEALQALCQELNLDEGSA...   \n",
       "\n",
       "                                     extraAttributes geneLocations  \\\n",
       "0  {'countByCommentType': {'FUNCTION': 1, 'PATHWA...           NaN   \n",
       "1  {'countByCommentType': {'FUNCTION': 1, 'COFACT...           NaN   \n",
       "2  {'countByCommentType': {'FUNCTION': 1, 'SUBUNI...           NaN   \n",
       "3  {'countByCommentType': {'FUNCTION': 1, 'SUBUNI...           NaN   \n",
       "4  {'countByCommentType': {'FUNCTION': 1, 'SUBUNI...           NaN   \n",
       "\n",
       "  inactiveReason  \n",
       "0            NaN  \n",
       "1            NaN  \n",
       "2            NaN  \n",
       "3            NaN  \n",
       "4            NaN  "
      ]
     },
     "execution_count": 130,
     "metadata": {},
     "output_type": "execute_result"
    }
   ],
   "source": [
    "uniprot_raw = pd.DataFrame(protein_data)\n",
    "uniprot_raw.head()"
   ]
  },
  {
   "cell_type": "markdown",
   "metadata": {},
   "source": [
    "### Organization of Protein Data"
   ]
  },
  {
   "cell_type": "code",
   "execution_count": 175,
   "metadata": {},
   "outputs": [
    {
     "data": {
      "text/html": [
       "<div>\n",
       "<style scoped>\n",
       "    .dataframe tbody tr th:only-of-type {\n",
       "        vertical-align: middle;\n",
       "    }\n",
       "\n",
       "    .dataframe tbody tr th {\n",
       "        vertical-align: top;\n",
       "    }\n",
       "\n",
       "    .dataframe thead th {\n",
       "        text-align: right;\n",
       "    }\n",
       "</style>\n",
       "<table border=\"1\" class=\"dataframe\">\n",
       "  <thead>\n",
       "    <tr style=\"text-align: right;\">\n",
       "      <th></th>\n",
       "      <th>protein</th>\n",
       "      <th>secondaryAccessions</th>\n",
       "      <th>uniProtkbId</th>\n",
       "      <th>organism</th>\n",
       "      <th>proteinExistence</th>\n",
       "      <th>proteinDescription</th>\n",
       "      <th>genes</th>\n",
       "      <th>comments</th>\n",
       "      <th>features</th>\n",
       "      <th>sequence</th>\n",
       "      <th>extraAttributes</th>\n",
       "    </tr>\n",
       "  </thead>\n",
       "  <tbody>\n",
       "    <tr>\n",
       "      <th>0</th>\n",
       "      <td>Q9H1A4</td>\n",
       "      <td>[Q2M3H8, Q9BSE6, Q9H8D0]</td>\n",
       "      <td>APC1_HUMAN</td>\n",
       "      <td>{'scientificName': 'Homo sapiens', 'commonName...</td>\n",
       "      <td>1: Evidence at protein level</td>\n",
       "      <td>{'recommendedName': {'fullName': {'value': 'An...</td>\n",
       "      <td>[{'geneName': {'value': 'ANAPC1'}, 'synonyms':...</td>\n",
       "      <td>[{'texts': [{'evidences': [{'evidenceCode': 'E...</td>\n",
       "      <td>[{'type': 'Chain', 'location': {'start': {'val...</td>\n",
       "      <td>{'value': 'MSNFYEERTTMIAARDLQEFVPFGRDHCKHHPNAL...</td>\n",
       "      <td>{'countByCommentType': {'FUNCTION': 1, 'PATHWA...</td>\n",
       "    </tr>\n",
       "    <tr>\n",
       "      <th>1</th>\n",
       "      <td>Q9H4K7</td>\n",
       "      <td>[A6NDR3, B4DR85, Q96I17, Q9NVG9, Q9UFR4]</td>\n",
       "      <td>MTG2_HUMAN</td>\n",
       "      <td>{'scientificName': 'Homo sapiens', 'commonName...</td>\n",
       "      <td>1: Evidence at protein level</td>\n",
       "      <td>{'recommendedName': {'fullName': {'value': 'Mi...</td>\n",
       "      <td>[{'geneName': {'value': 'MTG2'}, 'synonyms': [...</td>\n",
       "      <td>[{'texts': [{'evidences': [{'evidenceCode': 'E...</td>\n",
       "      <td>[{'type': 'Chain', 'location': {'start': {'val...</td>\n",
       "      <td>{'value': 'MAPARCFSARLRTVFQGVGHWALSTWAGLKPSRLL...</td>\n",
       "      <td>{'countByCommentType': {'FUNCTION': 1, 'COFACT...</td>\n",
       "    </tr>\n",
       "  </tbody>\n",
       "</table>\n",
       "</div>"
      ],
      "text/plain": [
       "  protein                       secondaryAccessions uniProtkbId  \\\n",
       "0  Q9H1A4                  [Q2M3H8, Q9BSE6, Q9H8D0]  APC1_HUMAN   \n",
       "1  Q9H4K7  [A6NDR3, B4DR85, Q96I17, Q9NVG9, Q9UFR4]  MTG2_HUMAN   \n",
       "\n",
       "                                            organism  \\\n",
       "0  {'scientificName': 'Homo sapiens', 'commonName...   \n",
       "1  {'scientificName': 'Homo sapiens', 'commonName...   \n",
       "\n",
       "               proteinExistence  \\\n",
       "0  1: Evidence at protein level   \n",
       "1  1: Evidence at protein level   \n",
       "\n",
       "                                  proteinDescription  \\\n",
       "0  {'recommendedName': {'fullName': {'value': 'An...   \n",
       "1  {'recommendedName': {'fullName': {'value': 'Mi...   \n",
       "\n",
       "                                               genes  \\\n",
       "0  [{'geneName': {'value': 'ANAPC1'}, 'synonyms':...   \n",
       "1  [{'geneName': {'value': 'MTG2'}, 'synonyms': [...   \n",
       "\n",
       "                                            comments  \\\n",
       "0  [{'texts': [{'evidences': [{'evidenceCode': 'E...   \n",
       "1  [{'texts': [{'evidences': [{'evidenceCode': 'E...   \n",
       "\n",
       "                                            features  \\\n",
       "0  [{'type': 'Chain', 'location': {'start': {'val...   \n",
       "1  [{'type': 'Chain', 'location': {'start': {'val...   \n",
       "\n",
       "                                            sequence  \\\n",
       "0  {'value': 'MSNFYEERTTMIAARDLQEFVPFGRDHCKHHPNAL...   \n",
       "1  {'value': 'MAPARCFSARLRTVFQGVGHWALSTWAGLKPSRLL...   \n",
       "\n",
       "                                     extraAttributes  \n",
       "0  {'countByCommentType': {'FUNCTION': 1, 'PATHWA...  \n",
       "1  {'countByCommentType': {'FUNCTION': 1, 'COFACT...  "
      ]
     },
     "execution_count": 175,
     "metadata": {},
     "output_type": "execute_result"
    }
   ],
   "source": [
    "# data organization\n",
    "uniprot = uniprot_raw.drop(columns = [\n",
    "  'entryType', 'entryAudit', 'annotationScore', \n",
    "  'keywords', 'references', 'uniProtKBCrossReferences',\n",
    "  'geneLocations', 'inactiveReason'\n",
    "]).rename(columns = {'primaryAccession' : 'protein'})\n",
    "\n",
    "uniprot.head(2)\n"
   ]
  },
  {
   "cell_type": "code",
   "execution_count": 176,
   "metadata": {},
   "outputs": [],
   "source": [
    "## extract common species name\n",
    "uniprot['organism'] = uniprot['organism'].apply(\n",
    "  lambda entry: entry.get('commonName') if isinstance(entry, dict) else None\n",
    ")\n",
    "\n",
    "## extract sequence and length\n",
    "uniprot['sequence'] = uniprot['sequence'].apply(\n",
    "  lambda entry: entry.get('value') if isinstance(entry, dict) else None\n",
    ")\n",
    "\n",
    "def seq_length(seq):\n",
    "  try:\n",
    "    return len(seq) if isinstance(seq, str) else 0\n",
    "  except TypeError:\n",
    "    return 0\n",
    "\n",
    "uniprot['length'] = uniprot['sequence'].apply(seq_length)"
   ]
  },
  {
   "cell_type": "code",
   "execution_count": 189,
   "metadata": {},
   "outputs": [
    {
     "data": {
      "text/plain": [
       "0"
      ]
     },
     "execution_count": 189,
     "metadata": {},
     "output_type": "execute_result"
    }
   ],
   "source": [
    "min(list(uniprot['length']))"
   ]
  }
 ],
 "metadata": {
  "kernelspec": {
   "display_name": "Python 3",
   "language": "python",
   "name": "python3"
  },
  "language_info": {
   "codemirror_mode": {
    "name": "ipython",
    "version": 3
   },
   "file_extension": ".py",
   "mimetype": "text/x-python",
   "name": "python",
   "nbconvert_exporter": "python",
   "pygments_lexer": "ipython3",
   "version": "3.12.4"
  }
 },
 "nbformat": 4,
 "nbformat_minor": 2
}
